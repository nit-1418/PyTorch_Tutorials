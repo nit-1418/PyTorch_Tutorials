{
  "nbformat": 4,
  "nbformat_minor": 0,
  "metadata": {
    "colab": {
      "provenance": []
    },
    "kernelspec": {
      "name": "python3",
      "display_name": "Python 3"
    },
    "language_info": {
      "name": "python"
    }
  },
  "cells": [
    {
      "cell_type": "markdown",
      "source": [
        "## Lesson: 1  Tensors"
      ],
      "metadata": {
        "id": "FT1_pLXk40fl"
      }
    },
    {
      "cell_type": "markdown",
      "source": [
        "Tensors are a specialized data structure that are very similar to arrays and matrices. In PyTorch, we use tensors to encode the inputs and outputs of a model, as well as the model's parameters."
      ],
      "metadata": {
        "id": "BDeVLP7b5LT3"
      }
    },
    {
      "cell_type": "markdown",
      "source": [
        "### Import dependeries "
      ],
      "metadata": {
        "id": "9u_sXBRC5zXi"
      }
    },
    {
      "cell_type": "code",
      "execution_count": 29,
      "metadata": {
        "id": "Swi5n1sj4zLG"
      },
      "outputs": [],
      "source": [
        "import torch\n",
        "import numpy as np"
      ]
    },
    {
      "cell_type": "markdown",
      "source": [
        "## Initializing a Tensor"
      ],
      "metadata": {
        "id": "lfku8bHi576i"
      }
    },
    {
      "cell_type": "markdown",
      "source": [
        "Tensor can be initialized in various ways. we look at the following examples:"
      ],
      "metadata": {
        "id": "zHWDcSSG6DPO"
      }
    },
    {
      "cell_type": "markdown",
      "source": [
        "## Directely from data\n",
        "\n",
        "Tensors can be created directly from data. The data types is automatically inferred."
      ],
      "metadata": {
        "id": "8t8yTK2z6RPr"
      }
    },
    {
      "cell_type": "code",
      "source": [
        "data = [[1,2],[3,4]]\n",
        "x_data = torch.tensor(data)"
      ],
      "metadata": {
        "id": "_OBbQE_X56wK"
      },
      "execution_count": 30,
      "outputs": []
    },
    {
      "cell_type": "markdown",
      "source": [
        "## From a NumPy array\n",
        "\n",
        "Tensors can be created from NumPy arrays (and vice versa)\n"
      ],
      "metadata": {
        "id": "FmqHu-A-639r"
      }
    },
    {
      "cell_type": "code",
      "source": [
        "np_array = np.array(data)\n",
        "x_np = torch.from_numpy(np_array)"
      ],
      "metadata": {
        "id": "KiXZyyJf6zia"
      },
      "execution_count": 31,
      "outputs": []
    },
    {
      "cell_type": "markdown",
      "source": [
        "## From another tensor:\n",
        "\n",
        "#### The new tensor retains the properties(shape,datatype) of the argument tensor, unless explicitly overridden."
      ],
      "metadata": {
        "id": "aw0169_3741j"
      }
    },
    {
      "cell_type": "code",
      "source": [
        "x_ones = torch.ones_like(x_data)  # retains the properies of x_data\n",
        "print(f\"Ones Tensor: \\n {x_ones} \\n\")\n",
        "\n",
        "x_rand = torch.rand_like(x_data, dtype = torch.float)  # overrides the datatypes of x_data\n",
        "print(f\"Random Tensor: \\n {x_rand} \\n\")"
      ],
      "metadata": {
        "colab": {
          "base_uri": "https://localhost:8080/"
        },
        "id": "nE6G_PP771uk",
        "outputId": "34defda8-d27e-4e68-a8ab-47b1e76a0903"
      },
      "execution_count": 32,
      "outputs": [
        {
          "output_type": "stream",
          "name": "stdout",
          "text": [
            "Ones Tensor: \n",
            " tensor([[1, 1],\n",
            "        [1, 1]]) \n",
            "\n",
            "Random Tensor: \n",
            " tensor([[0.3333, 0.4060],\n",
            "        [0.9496, 0.1707]]) \n",
            "\n"
          ]
        }
      ]
    },
    {
      "cell_type": "markdown",
      "source": [
        "## with random or constant values:\n",
        "\n",
        "Shape is a tuple of tensor dimensions. In the functions below, it determines the dimensionlity of the output tensor."
      ],
      "metadata": {
        "id": "cc9OoLSd-aSL"
      }
    },
    {
      "cell_type": "code",
      "source": [
        "shape = (2,3)\n",
        "rand_tensor = torch.rand(shape)\n",
        "ones_tensor = torch.ones(shape)\n",
        "zeros_tensor = torch.zeros(shape)\n",
        "\n",
        "print(f\"Random Tensor: \\n {rand_tensor} \\n\")\n",
        "print(f\"Ones Tensor: \\n {ones_tensor} \\n\")\n",
        "print(f\"Zeros Tensor: \\n {zeros_tensor} \\n\")"
      ],
      "metadata": {
        "colab": {
          "base_uri": "https://localhost:8080/"
        },
        "id": "InqOXxeZ-MSz",
        "outputId": "cf878f86-cd55-4a2e-ff0c-cdfd1984e0b6"
      },
      "execution_count": 33,
      "outputs": [
        {
          "output_type": "stream",
          "name": "stdout",
          "text": [
            "Random Tensor: \n",
            " tensor([[0.5516, 0.1683, 0.6740],\n",
            "        [0.9434, 0.3242, 0.2646]]) \n",
            "\n",
            "Ones Tensor: \n",
            " tensor([[1., 1., 1.],\n",
            "        [1., 1., 1.]]) \n",
            "\n",
            "Zeros Tensor: \n",
            " tensor([[0., 0., 0.],\n",
            "        [0., 0., 0.]]) \n",
            "\n"
          ]
        }
      ]
    },
    {
      "cell_type": "markdown",
      "source": [
        "## Attributes of a Tensor\n",
        "\n",
        "Tensor attributes describe their shape, datatype and the devie on which they are stored."
      ],
      "metadata": {
        "id": "Erh-y5zEAPOR"
      }
    },
    {
      "cell_type": "code",
      "source": [
        "tensor = torch.rand(3,4)\n",
        "\n",
        "print(f\"Shape of tensor: {tensor.shape}\")\n",
        "print(f\"Datatype of tensor: {tensor.dtype}\")\n",
        "print(f\"Device of tensor: {tensor.device}\")"
      ],
      "metadata": {
        "colab": {
          "base_uri": "https://localhost:8080/"
        },
        "id": "dQMFmJxN_pZg",
        "outputId": "e985299d-7443-4f62-fe6b-7915c33078f4"
      },
      "execution_count": 34,
      "outputs": [
        {
          "output_type": "stream",
          "name": "stdout",
          "text": [
            "Shape of tensor: torch.Size([3, 4])\n",
            "Datatype of tensor: torch.float32\n",
            "Device of tensor: cpu\n"
          ]
        }
      ]
    },
    {
      "cell_type": "markdown",
      "source": [
        "## Operations on Tensors\n",
        "\n",
        "Over 100 tensor operations, including arithmatic, linear algebra, matrix manipulation(transposing, indexing, slicing), sampling and many more can be done.\n",
        "\n",
        "\n",
        "Each of these operations can be run on the GPU(at typically higher speeds tha in a CPU). If you're usig Colab, allocate a GPU by going to runtime> Change runtime tpye >GPU.\n",
        "\n",
        "\n",
        "by default, tensors are created on the CPU. We need to explicitly move tensors to the GPU usig **.to** method (after checking for GPU availability). Keep in mind that copying large tensors across devices can be expensive in terms of time and memory!"
      ],
      "metadata": {
        "id": "swJyhm9NBpEy"
      }
    },
    {
      "cell_type": "code",
      "source": [
        "# We move our tensor to the GPU if available\n",
        "if torch.cuda.is_available():\n",
        "  tensor = tensor.to(\"cuda\")"
      ],
      "metadata": {
        "id": "eKmrqqZ6BKbK"
      },
      "execution_count": 35,
      "outputs": []
    },
    {
      "cell_type": "markdown",
      "source": [
        "Try out some of the operations from the list. If you are familiar with NumPy API, you'll find the Tensor API a breeze to use.\n",
        "\n",
        "### Standard numpu-like indexing and slicing"
      ],
      "metadata": {
        "id": "ChvOtsuEEDwS"
      }
    },
    {
      "cell_type": "code",
      "source": [
        "tensor = torch.ones(4,4)\n",
        "print(f\"Tensor first row: {tensor[0]}\")\n",
        "print(f\"Tensor first column: {tensor[:,0]}\")\n",
        "print(f\"Tensor last column: {tensor[...,-1]}\")\n",
        "tensor[:,1] =0\n",
        "print(tensor)"
      ],
      "metadata": {
        "colab": {
          "base_uri": "https://localhost:8080/"
        },
        "id": "wJEQo2V6D8CE",
        "outputId": "ae1602bc-9c8b-4936-da17-89899198f223"
      },
      "execution_count": 36,
      "outputs": [
        {
          "output_type": "stream",
          "name": "stdout",
          "text": [
            "Tensor first row: tensor([1., 1., 1., 1.])\n",
            "Tensor first column: tensor([1., 1., 1., 1.])\n",
            "Tensor last column: tensor([1., 1., 1., 1.])\n",
            "tensor([[1., 0., 1., 1.],\n",
            "        [1., 0., 1., 1.],\n",
            "        [1., 0., 1., 1.],\n",
            "        [1., 0., 1., 1.]])\n"
          ]
        }
      ]
    },
    {
      "cell_type": "markdown",
      "source": [
        "## Joining tensors \n",
        "\n",
        "you can use **torch.cat** to concatenate a sequence of tensors alonga given dimension. See also torch.stack, another tensor joining option that is subtly different from **torch.cat**."
      ],
      "metadata": {
        "id": "aBhn7exTGB5r"
      }
    },
    {
      "cell_type": "code",
      "source": [
        "t1 = torch.cat([tensor, tensor], dim =1)\n",
        "print(t1)"
      ],
      "metadata": {
        "colab": {
          "base_uri": "https://localhost:8080/"
        },
        "id": "V4afksTmFVv1",
        "outputId": "8f10be5e-f568-48b4-c891-2eedb900ac3c"
      },
      "execution_count": 37,
      "outputs": [
        {
          "output_type": "stream",
          "name": "stdout",
          "text": [
            "tensor([[1., 0., 1., 1., 1., 0., 1., 1.],\n",
            "        [1., 0., 1., 1., 1., 0., 1., 1.],\n",
            "        [1., 0., 1., 1., 1., 0., 1., 1.],\n",
            "        [1., 0., 1., 1., 1., 0., 1., 1.]])\n"
          ]
        }
      ]
    },
    {
      "cell_type": "markdown",
      "source": [
        "### Arthematic Operations"
      ],
      "metadata": {
        "id": "mQrkDOoaHED5"
      }
    },
    {
      "cell_type": "code",
      "source": [
        "# This compute the matrix multiplication between two tensors. y1, y2, y3 will have the same value\n",
        "# \"tensor.T\" return the transpose of a tensor\n",
        "y1 = tensor @ tensor.T\n",
        "y2 = tensor.matmul(tensor.T)\n",
        "\n",
        "y3 = torch.rand_like(y1)\n",
        "torch.matmul(tensor, tensor.T, out=y3)\n",
        "\n",
        "# This compute the element-wise product. z1, z2, z3 will have the same value\n",
        "z1 = tensor * tensor\n",
        "z2 = tensor.mul(tensor)\n",
        "\n",
        "z3 = torch.rand_like(tensor)\n",
        "torch.mul(tensor, tensor, out=z3)"
      ],
      "metadata": {
        "colab": {
          "base_uri": "https://localhost:8080/"
        },
        "id": "jZy8VAF7G9V_",
        "outputId": "2e7593b1-ec0a-4898-b91c-1a9bd7c82ff1"
      },
      "execution_count": 38,
      "outputs": [
        {
          "output_type": "execute_result",
          "data": {
            "text/plain": [
              "tensor([[1., 0., 1., 1.],\n",
              "        [1., 0., 1., 1.],\n",
              "        [1., 0., 1., 1.],\n",
              "        [1., 0., 1., 1.]])"
            ]
          },
          "metadata": {},
          "execution_count": 38
        }
      ]
    },
    {
      "cell_type": "markdown",
      "source": [
        "## Single-element tensors\n",
        "\n",
        "if you have a one-element tensor, for example by aggregating all values of a tensor into one value, you can convert it to a Python numberical value using **item():**"
      ],
      "metadata": {
        "id": "BV56M-LkJCZc"
      }
    },
    {
      "cell_type": "code",
      "source": [
        "agg = tensor.sum()\n",
        "agg_item = agg.item()\n",
        "print(agg_item, type(agg_item))"
      ],
      "metadata": {
        "colab": {
          "base_uri": "https://localhost:8080/"
        },
        "id": "oI3DJgPoICDl",
        "outputId": "14e89c43-9052-4051-b05f-fa0059b8c690"
      },
      "execution_count": 39,
      "outputs": [
        {
          "output_type": "stream",
          "name": "stdout",
          "text": [
            "12.0 <class 'float'>\n"
          ]
        }
      ]
    },
    {
      "cell_type": "markdown",
      "source": [
        "## In-place operations\n",
        "\n",
        "Operations that store the result into the operand are called in-place. They are denoted by a_suffix. For example: x.copy_(y), x.t_(), will change x.\n"
      ],
      "metadata": {
        "id": "xINk_qxhJ1R6"
      }
    },
    {
      "cell_type": "code",
      "source": [
        "print(f\"{tensor} \\n\")\n",
        "tensor.add_(5)\n",
        "print(tensor)"
      ],
      "metadata": {
        "colab": {
          "base_uri": "https://localhost:8080/"
        },
        "id": "MuLuwNUJJyhK",
        "outputId": "1427d2f9-29b8-4913-dc71-93155396f124"
      },
      "execution_count": 40,
      "outputs": [
        {
          "output_type": "stream",
          "name": "stdout",
          "text": [
            "tensor([[1., 0., 1., 1.],\n",
            "        [1., 0., 1., 1.],\n",
            "        [1., 0., 1., 1.],\n",
            "        [1., 0., 1., 1.]]) \n",
            "\n",
            "tensor([[6., 5., 6., 6.],\n",
            "        [6., 5., 6., 6.],\n",
            "        [6., 5., 6., 6.],\n",
            "        [6., 5., 6., 6.]])\n"
          ]
        }
      ]
    },
    {
      "cell_type": "markdown",
      "source": [
        "# Bridge with NumPy\n",
        "\n",
        "Tensors on the CPU and NumPy arrays can share their underlying memory locations, and changing one will change the other.\n",
        "\n",
        "## Tensor to NumPy array"
      ],
      "metadata": {
        "id": "S-Sff2pwL7jz"
      }
    },
    {
      "cell_type": "code",
      "source": [
        "t = torch.ones(5)\n",
        "print(f\"t: {t}\")\n",
        "n = t.numpy()\n",
        "print(f\"n: {n}\")"
      ],
      "metadata": {
        "colab": {
          "base_uri": "https://localhost:8080/"
        },
        "id": "2VbKJrlxKlvx",
        "outputId": "d1f23430-18e3-49c7-ac4a-95f1424209ad"
      },
      "execution_count": 41,
      "outputs": [
        {
          "output_type": "stream",
          "name": "stdout",
          "text": [
            "t: tensor([1., 1., 1., 1., 1.])\n",
            "n: [1. 1. 1. 1. 1.]\n"
          ]
        }
      ]
    },
    {
      "cell_type": "markdown",
      "source": [
        "A change in the tensor reflects in the NumPy array"
      ],
      "metadata": {
        "id": "oxfFZUGOM84O"
      }
    },
    {
      "cell_type": "code",
      "source": [
        "t.add_(2)\n",
        "print(f\"t: {t}\")\n",
        "print(f\"n: {n}\")"
      ],
      "metadata": {
        "colab": {
          "base_uri": "https://localhost:8080/"
        },
        "id": "11WmQ2iGMw-y",
        "outputId": "6fbd933d-c148-4168-890c-562d36bf5018"
      },
      "execution_count": 42,
      "outputs": [
        {
          "output_type": "stream",
          "name": "stdout",
          "text": [
            "t: tensor([3., 3., 3., 3., 3.])\n",
            "n: [3. 3. 3. 3. 3.]\n"
          ]
        }
      ]
    },
    {
      "cell_type": "markdown",
      "source": [
        "### NumPy array to Tensor"
      ],
      "metadata": {
        "id": "6Ha9rreyNn8H"
      }
    },
    {
      "cell_type": "code",
      "source": [
        "n = np.ones(5)\n",
        "t = torch.from_numpy(n)"
      ],
      "metadata": {
        "id": "C6ItMvAmNSvG"
      },
      "execution_count": 43,
      "outputs": []
    },
    {
      "cell_type": "markdown",
      "source": [
        "Changes in the NumPy array reflects in the tensor"
      ],
      "metadata": {
        "id": "FIsfWiUWN6rE"
      }
    },
    {
      "cell_type": "code",
      "source": [
        "np.add(n, 1, out=n)\n",
        "print(f\"t: {t}\")\n",
        "print(f\"n: {n}\")"
      ],
      "metadata": {
        "id": "8xaXwcy-N5Dq",
        "outputId": "dd24ceb4-9f13-41a1-d200-cd0076d40fc9",
        "colab": {
          "base_uri": "https://localhost:8080/"
        }
      },
      "execution_count": 45,
      "outputs": [
        {
          "output_type": "stream",
          "name": "stdout",
          "text": [
            "t: tensor([3., 3., 3., 3., 3.], dtype=torch.float64)\n",
            "n: [3. 3. 3. 3. 3.]\n"
          ]
        }
      ]
    },
    {
      "cell_type": "code",
      "source": [],
      "metadata": {
        "id": "gNEdMcnxOWq6"
      },
      "execution_count": 44,
      "outputs": []
    }
  ]
}