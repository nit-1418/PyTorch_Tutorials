{
  "nbformat": 4,
  "nbformat_minor": 0,
  "metadata": {
    "colab": {
      "provenance": []
    },
    "kernelspec": {
      "name": "python3",
      "display_name": "Python 3"
    },
    "language_info": {
      "name": "python"
    }
  },
  "cells": [
    {
      "cell_type": "markdown",
      "source": [
        "# Lesson:0 Quick Start Pytorch"
      ],
      "metadata": {
        "id": "DaQMDJ_BBsH4"
      }
    },
    {
      "cell_type": "markdown",
      "source": [
        "### TorchVision  FashionMNIST datasets"
      ],
      "metadata": {
        "id": "B5hnxc6HCBFv"
      }
    },
    {
      "cell_type": "markdown",
      "source": [
        "### Importing dependencies"
      ],
      "metadata": {
        "id": "pYqi1cCdCoY2"
      }
    },
    {
      "cell_type": "code",
      "execution_count": 25,
      "metadata": {
        "id": "86HOj64K6UR5"
      },
      "outputs": [],
      "source": [
        "import torch\n",
        "from torch import nn\n",
        "from torch.utils.data import DataLoader\n",
        "from torchvision import datasets\n",
        "from torchvision.transforms import ToTensor"
      ]
    },
    {
      "cell_type": "markdown",
      "source": [
        "## Download FashionMNIST datasets for training"
      ],
      "metadata": {
        "id": "u_j1G40JCxfx"
      }
    },
    {
      "cell_type": "code",
      "source": [
        "# Download training data from open datasets.\n",
        "training_data = datasets.FashionMNIST(\n",
        "    root = \"data\",\n",
        "    train = True,\n",
        "    download = True,\n",
        "    transform = ToTensor(),\n",
        ")"
      ],
      "metadata": {
        "id": "ORKqCgJe7Q3K"
      },
      "execution_count": 26,
      "outputs": []
    },
    {
      "cell_type": "markdown",
      "source": [
        "### Download FashionMNIST datasets for testing"
      ],
      "metadata": {
        "id": "vkbW6EQBDAb-"
      }
    },
    {
      "cell_type": "code",
      "source": [
        "# Download test data from open datasets.\n",
        "test_data = datasets.FashionMNIST(\n",
        "    root=\"data\",\n",
        "    train=False,\n",
        "    download=True,\n",
        "    transform=ToTensor(),\n",
        ")"
      ],
      "metadata": {
        "id": "P4N5ZmVp82Cr"
      },
      "execution_count": 27,
      "outputs": []
    },
    {
      "cell_type": "markdown",
      "source": [
        "### pass the Dataset as an argument to DataLoader"
      ],
      "metadata": {
        "id": "yWX7v05yDQhQ"
      }
    },
    {
      "cell_type": "code",
      "source": [
        "batch_size = 64\n",
        "\n",
        "#Create data loaders.\n",
        "train_dataloader =DataLoader(training_data,batch_size=batch_size)\n",
        "test_dataloader = DataLoader(test_data, batch_size=batch_size)\n",
        "\n",
        "for X, y in test_dataloader:\n",
        "  print(f\"Shape of X[N,C,H,W]: {X.shape}\")\n",
        "  print(f\"Shape of y: {y.shape} {y.dtype}\")\n",
        "  break"
      ],
      "metadata": {
        "colab": {
          "base_uri": "https://localhost:8080/"
        },
        "id": "gGhZg46w--1O",
        "outputId": "22af4100-010f-4026-8ec9-b5da1d4a92c9"
      },
      "execution_count": 28,
      "outputs": [
        {
          "output_type": "stream",
          "name": "stdout",
          "text": [
            "Shape of X[N,C,H,W]: torch.Size([64, 1, 28, 28])\n",
            "Shape of y: torch.Size([64]) torch.int64\n"
          ]
        }
      ]
    },
    {
      "cell_type": "markdown",
      "source": [
        "## Creating Models"
      ],
      "metadata": {
        "id": "vf7Ni7Vcp3vR"
      }
    },
    {
      "cell_type": "code",
      "source": [
        "# get cup or gpu device for training.\n",
        "device = \"cuda\" if torch.cuda.is_available() else \"mps\" if torch.backends.mps.is_available() else \"cpu\"\n",
        "print(f\"Using {device} device\")\n",
        "\n",
        "#Define model\n",
        "class NeuralNetwork(nn.Module):\n",
        "  def __init__(self):\n",
        "    super().__init__()\n",
        "    self.flatten = nn.Flatten()\n",
        "    self.linear_relu_stack = nn.Sequential(\n",
        "        nn.Linear(28*28,512),\n",
        "        nn.ReLU(),\n",
        "        nn.Linear(512,512),\n",
        "        nn.ReLU(),\n",
        "        nn.Linear(512,10)\n",
        "    )\n",
        "  def forward(self, x):\n",
        "    x = self.flatten(x)\n",
        "    logits = self.linear_relu_stack(x)\n",
        "    return logits\n",
        "  \n",
        "model = NeuralNetwork().to(device)\n",
        "print(model)\n"
      ],
      "metadata": {
        "colab": {
          "base_uri": "https://localhost:8080/"
        },
        "id": "WzNpDre5Ev_r",
        "outputId": "5f8a7018-8cb1-44d2-aa3b-4510c4498962"
      },
      "execution_count": 29,
      "outputs": [
        {
          "output_type": "stream",
          "name": "stdout",
          "text": [
            "Using cpu device\n",
            "NeuralNetwork(\n",
            "  (flatten): Flatten(start_dim=1, end_dim=-1)\n",
            "  (linear_relu_stack): Sequential(\n",
            "    (0): Linear(in_features=784, out_features=512, bias=True)\n",
            "    (1): ReLU()\n",
            "    (2): Linear(in_features=512, out_features=512, bias=True)\n",
            "    (3): ReLU()\n",
            "    (4): Linear(in_features=512, out_features=10, bias=True)\n",
            "  )\n",
            ")\n"
          ]
        }
      ]
    },
    {
      "cell_type": "markdown",
      "source": [
        "## Optimizing the Model Parameters"
      ],
      "metadata": {
        "id": "oHrGtKy3umZS"
      }
    },
    {
      "cell_type": "markdown",
      "source": [
        "To train a model, we need a loss function and an optimzer."
      ],
      "metadata": {
        "id": "YWS167bju4Qu"
      }
    },
    {
      "cell_type": "code",
      "source": [
        "loss_fn = nn.CrossEntropyLoss()\n",
        "optimizer = torch.optim.SGD(model.parameters(), lr = 1e-3)"
      ],
      "metadata": {
        "id": "JevU3lM1utYD"
      },
      "execution_count": 30,
      "outputs": []
    },
    {
      "cell_type": "markdown",
      "source": [
        "In a single training loop, the model makes predicitions on the training dataset(fed to it in batches), and backpropagates the predicition error to adjust the model's parameters."
      ],
      "metadata": {
        "id": "iOMybkPaviie"
      }
    },
    {
      "cell_type": "code",
      "source": [
        "def train(dataloader, model, loss_fn, optimizer):\n",
        "  size = len(dataloader.dataset)\n",
        "  model.train()\n",
        "  for batch, (X, y) in enumerate(dataloader):\n",
        "    X, y = X.to(device), y.to(device)\n",
        "\n",
        "    # Compute prediction error\n",
        "    pred = model(X)\n",
        "    loss = loss_fn(pred, y)\n",
        "\n",
        "    #Backpropagation\n",
        "    optimizer.zero_grad()\n",
        "    loss.backward()\n",
        "    optimizer.step()\n",
        "\n",
        "    if batch % 100 == 0:\n",
        "      loss, current = loss.item(), (batch + 1) * len(X)\n",
        "      print(f\"loss: {loss:>7f} [{current:>5d}/{size:>5d}]\")"
      ],
      "metadata": {
        "id": "T6KBqymmvetb"
      },
      "execution_count": 31,
      "outputs": []
    },
    {
      "cell_type": "markdown",
      "source": [
        "We also check the model's performance againt the test dataset to ensure it is learning."
      ],
      "metadata": {
        "id": "rEYnqUSjyPBL"
      }
    },
    {
      "cell_type": "code",
      "source": [
        "def test(dataloader, model, loss_fn):\n",
        "  size = len(dataloader.dataset)\n",
        "  num_batches = len(dataloader)\n",
        "  model.eval()\n",
        "  test_loss, correct = 0, 0\n",
        "  with torch.no_grad():\n",
        "    for X, y in dataloader:\n",
        "      X, y = X.to(device), y.to(device)\n",
        "      pred = model(X)\n",
        "      test_loss += loss_fn(pred, y).item()\n",
        "      correct += (pred.argmax(1) == y).type(torch.float).sum().item()\n",
        "  test_loss /= num_batches\n",
        "  correct /= size\n",
        "  print(f\"Test Error: \\n Accuracy: {(100*correct):>0.1f}%, Avg loss: {test_loss:>8f} \\n\")"
      ],
      "metadata": {
        "id": "bmUqc6dJyNcl"
      },
      "execution_count": 38,
      "outputs": []
    },
    {
      "cell_type": "markdown",
      "source": [
        "The training process is conducted over several iterations(epochs). During each epoch, the model learns parameters to make better predicitions. We print the model's accuracy and loss at each epoch; we'd like to see the accuracy increase and the loss decrease with every epoch."
      ],
      "metadata": {
        "id": "kz_ONnEw0n_i"
      }
    },
    {
      "cell_type": "code",
      "source": [
        "epochs = 5\n",
        "for t in range(epochs):\n",
        "  print(f\"Epoch {t+1}\\n..........................\")\n",
        "  train(train_dataloader, model, loss_fn, optimizer)\n",
        "  test(test_dataloader, model, loss_fn)\n",
        "print(\"Done!\")"
      ],
      "metadata": {
        "colab": {
          "base_uri": "https://localhost:8080/"
        },
        "id": "dKJX9apM0aog",
        "outputId": "da07456c-8a2d-4d71-f191-276bbf415e6b"
      },
      "execution_count": 39,
      "outputs": [
        {
          "output_type": "stream",
          "name": "stdout",
          "text": [
            "Epoch 1\n",
            "..........................\n",
            "loss: 0.751300 [   64/60000]\n",
            "loss: 0.831254 [ 6464/60000]\n",
            "loss: 0.594660 [12864/60000]\n",
            "loss: 0.806192 [19264/60000]\n",
            "loss: 0.727520 [25664/60000]\n",
            "loss: 0.702643 [32064/60000]\n",
            "loss: 0.785460 [38464/60000]\n",
            "loss: 0.771666 [44864/60000]\n",
            "loss: 0.774306 [51264/60000]\n",
            "loss: 0.739570 [57664/60000]\n",
            "Test Error: \n",
            " Accuracy: 73.5%, Avg loss: 0.735092 \n",
            "\n",
            "Epoch 2\n",
            "..........................\n",
            "loss: 0.718963 [   64/60000]\n",
            "loss: 0.805360 [ 6464/60000]\n",
            "loss: 0.568080 [12864/60000]\n",
            "loss: 0.786164 [19264/60000]\n",
            "loss: 0.708062 [25664/60000]\n",
            "loss: 0.681991 [32064/60000]\n",
            "loss: 0.763751 [38464/60000]\n",
            "loss: 0.757085 [44864/60000]\n",
            "loss: 0.755757 [51264/60000]\n",
            "loss: 0.721649 [57664/60000]\n",
            "Test Error: \n",
            " Accuracy: 74.3%, Avg loss: 0.715709 \n",
            "\n",
            "Epoch 3\n",
            "..........................\n",
            "loss: 0.690341 [   64/60000]\n",
            "loss: 0.781673 [ 6464/60000]\n",
            "loss: 0.544826 [12864/60000]\n",
            "loss: 0.768617 [19264/60000]\n",
            "loss: 0.690721 [25664/60000]\n",
            "loss: 0.664434 [32064/60000]\n",
            "loss: 0.743593 [38464/60000]\n",
            "loss: 0.743828 [44864/60000]\n",
            "loss: 0.739523 [51264/60000]\n",
            "loss: 0.705436 [57664/60000]\n",
            "Test Error: \n",
            " Accuracy: 75.2%, Avg loss: 0.698166 \n",
            "\n",
            "Epoch 4\n",
            "..........................\n",
            "loss: 0.664639 [   64/60000]\n",
            "loss: 0.759726 [ 6464/60000]\n",
            "loss: 0.524221 [12864/60000]\n",
            "loss: 0.752909 [19264/60000]\n",
            "loss: 0.675117 [25664/60000]\n",
            "loss: 0.649267 [32064/60000]\n",
            "loss: 0.724740 [38464/60000]\n",
            "loss: 0.731618 [44864/60000]\n",
            "loss: 0.725015 [51264/60000]\n",
            "loss: 0.690609 [57664/60000]\n",
            "Test Error: \n",
            " Accuracy: 75.8%, Avg loss: 0.682096 \n",
            "\n",
            "Epoch 5\n",
            "..........................\n",
            "loss: 0.641470 [   64/60000]\n",
            "loss: 0.739425 [ 6464/60000]\n",
            "loss: 0.505790 [12864/60000]\n",
            "loss: 0.738494 [19264/60000]\n",
            "loss: 0.661006 [25664/60000]\n",
            "loss: 0.636046 [32064/60000]\n",
            "loss: 0.707041 [38464/60000]\n",
            "loss: 0.720524 [44864/60000]\n",
            "loss: 0.712207 [51264/60000]\n",
            "loss: 0.677007 [57664/60000]\n",
            "Test Error: \n",
            " Accuracy: 76.5%, Avg loss: 0.667359 \n",
            "\n",
            "Done!\n"
          ]
        }
      ]
    },
    {
      "cell_type": "markdown",
      "source": [
        "# Saving Model"
      ],
      "metadata": {
        "id": "ED9s8dQE6yKt"
      }
    },
    {
      "cell_type": "code",
      "source": [
        "torch.save(model.state_dict(), \"model.pth\")\n",
        "print(\"Saved PyTorch Model State to model.pth\")"
      ],
      "metadata": {
        "colab": {
          "base_uri": "https://localhost:8080/"
        },
        "id": "edUKCbrA2A6J",
        "outputId": "768f15db-0e21-4be1-ceee-c4d9fbb0bfc0"
      },
      "execution_count": 40,
      "outputs": [
        {
          "output_type": "stream",
          "name": "stdout",
          "text": [
            "Saved PyTorch Model State to model.pth\n"
          ]
        }
      ]
    },
    {
      "cell_type": "markdown",
      "source": [
        "## Loading Model"
      ],
      "metadata": {
        "id": "OTZE67MD7Qsk"
      }
    },
    {
      "cell_type": "markdown",
      "source": [
        "The process for loading a model include re-creating the model structure and loading the state dictionary into it."
      ],
      "metadata": {
        "id": "rMScvBlI7X4m"
      }
    },
    {
      "cell_type": "code",
      "source": [
        "model = NeuralNetwork()\n",
        "model.load_state_dict(torch.load(\"model.pth\"))"
      ],
      "metadata": {
        "colab": {
          "base_uri": "https://localhost:8080/"
        },
        "id": "aHSkCtt87JjI",
        "outputId": "4219e14b-0d2d-4076-9e8e-57be84ccf2df"
      },
      "execution_count": 41,
      "outputs": [
        {
          "output_type": "execute_result",
          "data": {
            "text/plain": [
              "<All keys matched successfully>"
            ]
          },
          "metadata": {},
          "execution_count": 41
        }
      ]
    },
    {
      "cell_type": "markdown",
      "source": [
        "This model can now be used to make predicitons."
      ],
      "metadata": {
        "id": "QDGNFUbJ73u6"
      }
    },
    {
      "cell_type": "code",
      "source": [
        "classes = [\n",
        "    \"T-shirt/top\",\n",
        "    \"Trouser\",\n",
        "    \"Pullover\",\n",
        "    \"Dress\",\n",
        "    \"Coat\",\n",
        "    \"Sandal\",\n",
        "    \"Shirt\",\n",
        "    \"Sneaker\",\n",
        "    \"Bag\",\n",
        "    \"Ankle boot\"\n",
        "]"
      ],
      "metadata": {
        "id": "5IbQP8n87y7z"
      },
      "execution_count": 43,
      "outputs": []
    },
    {
      "cell_type": "code",
      "source": [
        "model.eval()\n",
        "x, y = test_data[0][0], test_data[0][1]\n",
        "with torch.no_grad():\n",
        "  pred = model(x)\n",
        "  predicted, actual = classes[pred[0].argmax(0)], classes[y]\n",
        "  print(f'Predicted: \"{predicted}\", Actual: \"{actual}\"')"
      ],
      "metadata": {
        "colab": {
          "base_uri": "https://localhost:8080/"
        },
        "id": "Im3I5ivq8djZ",
        "outputId": "4c38173a-199f-4e98-a5f9-9e009850183c"
      },
      "execution_count": 63,
      "outputs": [
        {
          "output_type": "stream",
          "name": "stdout",
          "text": [
            "Predicted: \"Ankle boot\", Actual: \"Ankle boot\"\n"
          ]
        }
      ]
    },
    {
      "cell_type": "code",
      "source": [],
      "metadata": {
        "id": "MqANmbeQ9n9Z"
      },
      "execution_count": null,
      "outputs": []
    }
  ]
}